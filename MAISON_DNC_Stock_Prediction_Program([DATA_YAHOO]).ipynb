{
  "nbformat": 4,
  "nbformat_minor": 0,
  "metadata": {
    "colab": {
      "name": "MAISON DNC Stock Prediction Program([DATA YAHOO]).ipynb",
      "provenance": [],
      "include_colab_link": true
    },
    "kernelspec": {
      "name": "python3",
      "display_name": "Python 3"
    }
  },
  "cells": [
    {
      "cell_type": "markdown",
      "metadata": {
        "id": "view-in-github",
        "colab_type": "text"
      },
      "source": [
        "<a href=\"https://colab.research.google.com/github/richiedinc/Python/blob/master/MAISON_DNC_Stock_Prediction_Program(%5BDATA_YAHOO%5D).ipynb\" target=\"_parent\"><img src=\"https://colab.research.google.com/assets/colab-badge.svg\" alt=\"Open In Colab\"/></a>"
      ]
    },
    {
      "cell_type": "code",
      "metadata": {
        "id": "VyRlq9ehzl3C",
        "colab_type": "code",
        "colab": {}
      },
      "source": [
        "\n"
      ],
      "execution_count": 0,
      "outputs": []
    },
    {
      "cell_type": "code",
      "metadata": {
        "id": "CDXNYUMkrZc_",
        "colab_type": "code",
        "colab": {}
      },
      "source": [
        "# This program predicts stock prices by using machine learning models\n",
        "\n",
        "#Install the dependencies\n",
        "import  fix_yahoo_finance as fyf\n",
        "from pandas_datareader import data as pdr\n",
        "import numpy as np \n",
        "import datetime as dt\n",
        "from sklearn.linear_model import LinearRegression\n",
        "from sklearn.svm import SVR\n",
        "from sklearn.model_selection import train_test_split"
      ],
      "execution_count": 0,
      "outputs": []
    },
    {
      "cell_type": "code",
      "metadata": {
        "id": "lXvJoFg3K8_6",
        "colab_type": "code",
        "outputId": "155d1d00-d435-435c-e356-355f8b5e6c6c",
        "colab": {
          "base_uri": "https://localhost:8080/",
          "height": 153
        }
      },
      "source": [
        "#Get the stock data\n",
        "fyf.pdr_override()\n",
        "df = pdr.get_data_yahoo(\"AMD\", start ='2000-1-01', end='2019-11-7')\n",
        "df.head\n",
        "# Take a look at the data\n",
        "print(df.head())"
      ],
      "execution_count": 107,
      "outputs": [
        {
          "output_type": "stream",
          "text": [
            "[*********************100%***********************]  1 of 1 downloaded\n",
            "                Open      High       Low   Close  Adj Close    Volume\n",
            "Date                                                                 \n",
            "2000-01-03  14.96875  15.59375  14.68750  15.500     15.500   7843200\n",
            "2000-01-04  15.12500  15.50000  14.59375  14.625     14.625   6290200\n",
            "2000-01-05  14.53125  15.06250  14.00000  15.000     15.000   8204600\n",
            "2000-01-06  15.50000  16.00000  15.25000  16.000     16.000  11489400\n",
            "2000-01-07  15.40625  16.40625  15.37500  16.250     16.250   8543400\n"
          ],
          "name": "stdout"
        }
      ]
    },
    {
      "cell_type": "code",
      "metadata": {
        "id": "61HGXaVyxhLQ",
        "colab_type": "code",
        "outputId": "d1e75ff2-01c7-438d-dca2-7c21f75f3be0",
        "colab": {
          "base_uri": "https://localhost:8080/",
          "height": 136
        }
      },
      "source": [
        "# Get the Adjusted Close Price\n",
        "df = df[['Close']]\n",
        "#Take a look at the new data\n",
        "print(df.head())"
      ],
      "execution_count": 108,
      "outputs": [
        {
          "output_type": "stream",
          "text": [
            "             Close\n",
            "Date              \n",
            "2000-01-03  15.500\n",
            "2000-01-04  14.625\n",
            "2000-01-05  15.000\n",
            "2000-01-06  16.000\n",
            "2000-01-07  16.250\n"
          ],
          "name": "stdout"
        }
      ]
    },
    {
      "cell_type": "code",
      "metadata": {
        "id": "v0p5qoOfzbr5",
        "colab_type": "code",
        "outputId": "dd25c529-c94e-4bb3-9011-8464e713a8a4",
        "colab": {
          "base_uri": "https://localhost:8080/",
          "height": 136
        }
      },
      "source": [
        "# A variable for predicting 'n' days out into the future\n",
        "forecast_out = 1 #'n=30' days\n",
        "#Create another column (the target or dependent variable) shifted 'n' units up\n",
        "df['Prediction'] = df[['Close']].shift(-forecast_out)\n",
        "#print the new data set\n",
        "print(df.tail())"
      ],
      "execution_count": 109,
      "outputs": [
        {
          "output_type": "stream",
          "text": [
            "                Close  Prediction\n",
            "Date                             \n",
            "2019-10-31  33.930000   34.889999\n",
            "2019-11-01  34.889999   36.290001\n",
            "2019-11-04  36.290001   36.150002\n",
            "2019-11-05  36.150002   35.930000\n",
            "2019-11-06  35.930000         NaN\n"
          ],
          "name": "stdout"
        }
      ]
    },
    {
      "cell_type": "code",
      "metadata": {
        "id": "T-Hy3YCg0sTx",
        "colab_type": "code",
        "outputId": "4d1a86ab-7c53-4ff8-a9fb-92fd7e842285",
        "colab": {
          "base_uri": "https://localhost:8080/",
          "height": 136
        }
      },
      "source": [
        "### Create the independent data set (X)  #######\n",
        "# Convert the dataframe to a numpy array\n",
        "X = np.array(df.drop(['Prediction'],1))\n",
        "\n",
        "#Remove the last 'n' rows\n",
        "X = X[:-forecast_out]\n",
        "print(X)"
      ],
      "execution_count": 110,
      "outputs": [
        {
          "output_type": "stream",
          "text": [
            "[[15.5     ]\n",
            " [14.625   ]\n",
            " [15.      ]\n",
            " ...\n",
            " [34.889999]\n",
            " [36.290001]\n",
            " [36.150002]]\n"
          ],
          "name": "stdout"
        }
      ]
    },
    {
      "cell_type": "code",
      "metadata": {
        "id": "YaYfVp8f4UGQ",
        "colab_type": "code",
        "outputId": "35962b11-87c7-463e-fe25-26923db8e461",
        "colab": {
          "base_uri": "https://localhost:8080/",
          "height": 34
        }
      },
      "source": [
        "### Create the dependent data set (y)  #####\n",
        "# Convert the dataframe to a numpy array (All of the values including the NaN's)\n",
        "y = np.array(df['Prediction'])\n",
        "# Get all of the y values except the last 'n' rows\n",
        "y = y[:-forecast_out]\n",
        "print(y)"
      ],
      "execution_count": 111,
      "outputs": [
        {
          "output_type": "stream",
          "text": [
            "[14.625    15.       16.       ... 36.290001 36.150002 35.93    ]\n"
          ],
          "name": "stdout"
        }
      ]
    },
    {
      "cell_type": "code",
      "metadata": {
        "id": "xwINUGKR4fuE",
        "colab_type": "code",
        "colab": {}
      },
      "source": [
        "# Split the data into 80% training and 20% testing\n",
        "x_train, x_test, y_train, y_test = train_test_split(X, y, test_size=0.2)"
      ],
      "execution_count": 0,
      "outputs": []
    },
    {
      "cell_type": "code",
      "metadata": {
        "id": "Zm6ytrjM411K",
        "colab_type": "code",
        "outputId": "f23eee40-8891-4cc6-87c5-81b4150daca0",
        "colab": {
          "base_uri": "https://localhost:8080/",
          "height": 51
        }
      },
      "source": [
        "# Create and train the Support Vector Machine (Regressor)\n",
        "svr_rbf = SVR(kernel='rbf', C=1e3, gamma=0.1)\n",
        "svr_rbf.fit(x_train, y_train)"
      ],
      "execution_count": 113,
      "outputs": [
        {
          "output_type": "execute_result",
          "data": {
            "text/plain": [
              "SVR(C=1000.0, cache_size=200, coef0=0.0, degree=3, epsilon=0.1, gamma=0.1,\n",
              "    kernel='rbf', max_iter=-1, shrinking=True, tol=0.001, verbose=False)"
            ]
          },
          "metadata": {
            "tags": []
          },
          "execution_count": 113
        }
      ]
    },
    {
      "cell_type": "code",
      "metadata": {
        "id": "mp8KiuIo5GDz",
        "colab_type": "code",
        "outputId": "b9389985-ca64-4e09-b2ba-3139e6f6b132",
        "colab": {
          "base_uri": "https://localhost:8080/",
          "height": 34
        }
      },
      "source": [
        "# Testing Model: Score returns the coefficient of determination R^2 of the prediction. \n",
        "# The best possible score is 1.0\n",
        "svm_confidence = svr_rbf.score(x_test, y_test)\n",
        "print(\"svm confidence: \", svm_confidence)"
      ],
      "execution_count": 114,
      "outputs": [
        {
          "output_type": "stream",
          "text": [
            "svm confidence:  0.9943854799027545\n"
          ],
          "name": "stdout"
        }
      ]
    },
    {
      "cell_type": "code",
      "metadata": {
        "id": "pRW-rQ4g5X6G",
        "colab_type": "code",
        "outputId": "227cdd4f-f9f3-45c5-c4e2-6c59586aa131",
        "colab": {
          "base_uri": "https://localhost:8080/",
          "height": 34
        }
      },
      "source": [
        "# Create and train the Linear Regression  Model\n",
        "lr = LinearRegression()\n",
        "# Train the model\n",
        "lr.fit(x_train, y_train)"
      ],
      "execution_count": 115,
      "outputs": [
        {
          "output_type": "execute_result",
          "data": {
            "text/plain": [
              "LinearRegression(copy_X=True, fit_intercept=True, n_jobs=None, normalize=False)"
            ]
          },
          "metadata": {
            "tags": []
          },
          "execution_count": 115
        }
      ]
    },
    {
      "cell_type": "code",
      "metadata": {
        "id": "6rDSK5PW5gqE",
        "colab_type": "code",
        "outputId": "98fef8e5-9ac5-434c-9095-f85215b75f11",
        "colab": {
          "base_uri": "https://localhost:8080/",
          "height": 34
        }
      },
      "source": [
        "# Testing Model: Score returns the coefficient of determination R^2 of the prediction. \n",
        "# The best possible score is 1.0\n",
        "lr_confidence = lr.score(x_test, y_test)\n",
        "print(\"lr confidence: \", lr_confidence)"
      ],
      "execution_count": 116,
      "outputs": [
        {
          "output_type": "stream",
          "text": [
            "lr confidence:  0.9960550944687995\n"
          ],
          "name": "stdout"
        }
      ]
    },
    {
      "cell_type": "code",
      "metadata": {
        "id": "uNMhep135tnL",
        "colab_type": "code",
        "outputId": "5f959c40-16a7-4cd9-a9f0-a71aa151a939",
        "colab": {
          "base_uri": "https://localhost:8080/",
          "height": 34
        }
      },
      "source": [
        "# Set x_forecast equal to the last 30 rows of the original data set from Adj. Close column\n",
        "x_forecast = np.array(df.drop(['Prediction'],1))[-forecast_out:]\n",
        "print(x_forecast)"
      ],
      "execution_count": 117,
      "outputs": [
        {
          "output_type": "stream",
          "text": [
            "[[35.93]]\n"
          ],
          "name": "stdout"
        }
      ]
    },
    {
      "cell_type": "code",
      "metadata": {
        "id": "NvKv4UHw6Mkf",
        "colab_type": "code",
        "outputId": "9561cec0-af42-417a-9784-855dfb15373c",
        "colab": {
          "base_uri": "https://localhost:8080/",
          "height": 51
        }
      },
      "source": [
        "# Print linear regression model predictions for the next 'n' days\n",
        "lr_prediction = lr.predict(x_forecast)\n",
        "print(lr_prediction)\n",
        "\n",
        "# Print support vector regressor model predictions for the next 'n' days\n",
        "svm_prediction = svr_rbf.predict(x_forecast)\n",
        "print(svm_prediction)"
      ],
      "execution_count": 118,
      "outputs": [
        {
          "output_type": "stream",
          "text": [
            "[35.89299478]\n",
            "[35.26604707]\n"
          ],
          "name": "stdout"
        }
      ]
    }
  ]
}